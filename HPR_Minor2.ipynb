{
  "nbformat": 4,
  "nbformat_minor": 0,
  "metadata": {
    "colab": {
      "provenance": [],
      "include_colab_link": true
    },
    "kernelspec": {
      "name": "python3",
      "display_name": "Python 3"
    },
    "language_info": {
      "name": "python"
    }
  },
  "cells": [
    {
      "cell_type": "markdown",
      "metadata": {
        "id": "view-in-github",
        "colab_type": "text"
      },
      "source": [
        "<a href=\"https://colab.research.google.com/github/at13lemmewrite/BBN-HEALTH-CARE/blob/main/HPR_Minor2.ipynb\" target=\"_parent\"><img src=\"https://colab.research.google.com/assets/colab-badge.svg\" alt=\"Open In Colab\"/></a>"
      ]
    },
    {
      "cell_type": "code",
      "source": [
        "import math\n",
        "\n",
        "# define the data set\n",
        "data = [\n",
        "    {'id': 1, 'roadCondition': 'bad', 'poverty': 'high', 'healthCare':'weak', 'decision': 'yes' },\n",
        "    {'id': 2, 'roadCondition': 'bad', 'poverty': 'low', 'healthCare':'weak', 'decision': 'yes' },\n",
        "    {'id': 3, 'roadCondition': 'bad', 'poverty': 'low', 'healthCare':'strong', 'decision': 'yes' },\n",
        "    {'id': 4, 'roadCondition': 'good', 'poverty': 'low', 'healthCare':'strong', 'decision': 'yes' },\n",
        "    {'id': 5, 'roadCondition': 'good', 'poverty': 'high', 'healthCare':'strong', 'decision': 'yes' },\n",
        "    {'id': 6, 'roadCondition': 'good', 'poverty': 'high', 'healthCare':'strong', 'decision': 'no' },\n",
        "    {'id': 7, 'roadCondition': 'good', 'poverty': 'high', 'healthCare':'weak', 'decision': 'yes' },\n",
        "    {'id': 8, 'roadCondition': 'good', 'poverty': 'low', 'healthCare':'weak', 'decision': 'yes' },\n",
        "    {'id': 9, 'roadCondition': 'bad', 'poverty': 'low', 'healthCare':'strong', 'decision': 'no' },\n",
        "    {'id': 10, 'roadCondition': 'bad', 'poverty': 'low', 'healthCare':'weak', 'decision': 'no' },\n",
        "    {'id': 11, 'roadCondition': 'good', 'poverty': 'low', 'healthCare':'strong', 'decision': 'no' },\n",
        "    {'id': 12, 'roadCondition': 'good', 'poverty': 'high', 'healthCare':'strong', 'decision': 'no' },\n",
        "    {'id': 13, 'roadCondition': 'good', 'poverty': 'high', 'healthCare':'weak', 'decision': 'yes' },\n",
        "    {'id': 14, 'roadCondition': 'good', 'poverty': 'low', 'healthCare':'strong', 'decision': 'yes' },\n",
        "    {'id': 15, 'roadCondition': 'bad', 'poverty': 'low', 'healthCare':'strong', 'decision': 'yes' },\n",
        "    {'id': 16, 'roadCondition': 'good', 'poverty': 'high', 'healthCare':'strong', 'decision': 'yes' },\n",
        "    {'id': 17, 'roadCondition': 'good', 'poverty': 'high', 'healthCare':'weak', 'decision': 'yes' },\n",
        "    {'id': 18, 'roadCondition': 'good', 'poverty': 'high', 'healthCare':'weak', 'decision': 'no' },\n",
        "    {'id': 19, 'roadCondition': 'good', 'poverty': 'high', 'healthCare':'strong', 'decision': 'yes' },\n",
        "    {'id': 20, 'roadCondition': 'good', 'poverty': 'low', 'healthCare':'weak', 'decision': 'no' }\n",
        "]"
      ],
      "metadata": {
        "id": "QnTAh4DxCvvt"
      },
      "execution_count": null,
      "outputs": []
    },
    {
      "cell_type": "code",
      "source": [
        "data_new = [row for row in data if row['roadCondition'] == 'good']"
      ],
      "metadata": {
        "id": "aTyVEI9EGi8y"
      },
      "execution_count": null,
      "outputs": []
    },
    {
      "cell_type": "code",
      "source": [],
      "metadata": {
        "id": "JVZnccj3S9tK"
      },
      "execution_count": null,
      "outputs": []
    },
    {
      "cell_type": "code",
      "source": [
        "# compute entropy for a given attribute\n",
        "\n",
        "def entropy(attribute, data):\n",
        "    values = {}\n",
        "    for row in data:\n",
        "        value = row[attribute]\n",
        "        if value not in values:\n",
        "            values[value] = 0\n",
        "        values[value] += 1\n",
        "    total = len(data)\n",
        "    entropy = 0\n",
        "    for value in values.values():\n",
        "        probability = value / total\n",
        "        entropy -= probability * math.log2(probability)\n",
        "    return entropy"
      ],
      "metadata": {
        "id": "xBCt1j2uuC8V"
      },
      "execution_count": null,
      "outputs": []
    },
    {
      "cell_type": "code",
      "source": [
        "# entropy('good', 'roadCondition')\n"
      ],
      "metadata": {
        "id": "FEibFVFUFwe1"
      },
      "execution_count": null,
      "outputs": []
    },
    {
      "cell_type": "code",
      "source": [
        "dic_entropy = {}\n",
        "dic_entropy['S'] = entropy('decision', data)    # overall\n",
        "dic_entropy['SroadCondition'] = entropy('roadCondition', data)   # entropy of road\n",
        "dic_entropy['Spoverty'] = entropy('poverty', data)    # entropy of poverty\n",
        "dic_entropy['ShealthCare'] = entropy('healthCare', data)   # entropy of health\n",
        "\n",
        "dic_entropy"
      ],
      "metadata": {
        "colab": {
          "base_uri": "https://localhost:8080/"
        },
        "id": "IO1YEPOaFH4T",
        "outputId": "b72dd711-b0be-4dbb-d7f8-a8c34c3054cb"
      },
      "execution_count": null,
      "outputs": [
        {
          "output_type": "execute_result",
          "data": {
            "text/plain": [
              "{'S': 0.934068055375491,\n",
              " 'SroadCondition': 0.8812908992306927,\n",
              " 'Spoverty': 1.0,\n",
              " 'ShealthCare': 0.9927744539878083}"
            ]
          },
          "metadata": {},
          "execution_count": 5
        }
      ]
    },
    {
      "cell_type": "code",
      "source": [],
      "metadata": {
        "id": "W2iA_NxmBXaU"
      },
      "execution_count": null,
      "outputs": []
    },
    {
      "cell_type": "code",
      "source": [],
      "metadata": {
        "id": "MiLiaiPxFHp3"
      },
      "execution_count": null,
      "outputs": []
    },
    {
      "cell_type": "code",
      "source": [
        "# compute gain for a given attribute\n",
        "def gain(attribute, data, target):\n",
        "    values = {}\n",
        "    for row in data:\n",
        "        value = row[attribute]\n",
        "        if value not in values:\n",
        "            values[value] = []\n",
        "        values[value].append(row[target])\n",
        "    total = len(data)\n",
        "    gain = entropy(target, data)\n",
        "    for value, subset in values.items():\n",
        "        subset_size = len(subset)\n",
        "        subset_data = [{attribute: value, target: v} for v in subset]\n",
        "        value_gain = entropy(target, subset_data)\n",
        "        gain -= (subset_size / total) * value_gain\n",
        "    return gain"
      ],
      "metadata": {
        "id": "fF3L49PPuGSC"
      },
      "execution_count": null,
      "outputs": []
    },
    {
      "cell_type": "code",
      "source": [
        "# compute entropy and gain for government\n",
        "dic = {}\n",
        "dic['Gain(S,roadCondition)'] = gain('roadCondition', data, 'decision')\n",
        "dic['Gain(S,poverty)'] = gain('poverty', data, 'decision')\n",
        "dic['Gain(S,healthCare)'] = gain('healthCare', data, 'decision')"
      ],
      "metadata": {
        "id": "kEolG3uOuJPF"
      },
      "execution_count": null,
      "outputs": []
    },
    {
      "cell_type": "code",
      "source": [
        "dic"
      ],
      "metadata": {
        "colab": {
          "base_uri": "https://localhost:8080/"
        },
        "id": "X_B2RdypRFvb",
        "outputId": "b04491bb-2a96-4094-ad67-55699d1a7f32"
      },
      "execution_count": null,
      "outputs": [
        {
          "output_type": "execute_result",
          "data": {
            "text/plain": [
              "{'Gain(S,roadCondition)': 0.00037913408970247087,\n",
              " 'Gain(S,poverty)': 0.007947308532810338,\n",
              " 'Gain(S,healthCare)': 0.0007217625206186185}"
            ]
          },
          "metadata": {},
          "execution_count": 8
        }
      ]
    },
    {
      "cell_type": "code",
      "source": [
        "# highest attribute i.e rootnode of decision tree\n",
        "high_entropy = max(dic,key = dic.get)\n",
        "high_entropy"
      ],
      "metadata": {
        "colab": {
          "base_uri": "https://localhost:8080/",
          "height": 35
        },
        "id": "eXwSsASc5eKl",
        "outputId": "8398eea4-8baa-4cbe-f64c-90b1f685d081"
      },
      "execution_count": null,
      "outputs": [
        {
          "output_type": "execute_result",
          "data": {
            "text/plain": [
              "'Gain(S,poverty)'"
            ],
            "application/vnd.google.colaboratory.intrinsic+json": {
              "type": "string"
            }
          },
          "metadata": {},
          "execution_count": 9
        }
      ]
    },
    {
      "cell_type": "code",
      "source": [
        "# value of highest attribute\n",
        "high_entropy_value = max(dic.values())\n",
        "high_entropy_value"
      ],
      "metadata": {
        "colab": {
          "base_uri": "https://localhost:8080/"
        },
        "id": "sdg-tOzjvuWp",
        "outputId": "9f19e9e1-3603-44f5-ecef-3b415bdcd0e1"
      },
      "execution_count": null,
      "outputs": [
        {
          "output_type": "execute_result",
          "data": {
            "text/plain": [
              "0.007947308532810338"
            ]
          },
          "metadata": {},
          "execution_count": 10
        }
      ]
    },
    {
      "cell_type": "code",
      "source": [
        "# Gain(S,poverty) is two possible values\n",
        "# So root node has two branches (high , low)\n",
        "\n"
      ],
      "metadata": {
        "id": "6y9qgj6hvwwf"
      },
      "execution_count": null,
      "outputs": []
    },
    {
      "cell_type": "code",
      "source": [
        "final_dic = {}"
      ],
      "metadata": {
        "id": "o2gbARrxwDAY"
      },
      "execution_count": null,
      "outputs": []
    },
    {
      "cell_type": "code",
      "source": [
        "## general to calculate entropy of middle"
      ],
      "metadata": {
        "id": "PfL3BRRStxFG"
      },
      "execution_count": null,
      "outputs": []
    },
    {
      "cell_type": "code",
      "source": [
        "def cal_entropy(a,b,total):\n",
        "  total = len(total)\n",
        "  a = len(a) / total\n",
        "  b = len(b) / total\n",
        "  entropy = -(a * math.log2(a))-(b * math.log2(b))\n",
        "  return entropy"
      ],
      "metadata": {
        "id": "wihopaidtxIa"
      },
      "execution_count": null,
      "outputs": []
    },
    {
      "cell_type": "code",
      "source": [
        "## Slow calculate"
      ],
      "metadata": {
        "id": "RWbJN7RNQryv"
      },
      "execution_count": null,
      "outputs": []
    },
    {
      "cell_type": "code",
      "source": [
        "low = [row for row in data if row['poverty'] == 'low']\n",
        "yes = [row for row in data if row['poverty'] == 'low' and row['decision']=='yes']\n",
        "no = [row for row in data if row['poverty'] == 'low' and row['decision']=='no']\n",
        "\n",
        "Slow = cal_entropy(yes,no,low)\n",
        "final_dic['Slow'] = cal_entropy(yes,no,low)"
      ],
      "metadata": {
        "id": "1aNUTLOhQr0v"
      },
      "execution_count": null,
      "outputs": []
    },
    {
      "cell_type": "code",
      "source": [
        "## Low , road"
      ],
      "metadata": {
        "id": "20dFskFwQr3w"
      },
      "execution_count": null,
      "outputs": []
    },
    {
      "cell_type": "markdown",
      "source": [],
      "metadata": {
        "id": "qVbyd3HVUoX1"
      }
    },
    {
      "cell_type": "code",
      "source": [
        "low_bad = [row for row in data if row['poverty'] == 'low' and row['roadCondition'] == 'bad']\n",
        "bad_yes = [row for row in data if row['poverty'] == 'low' and row['roadCondition'] == 'bad' and row['decision']=='yes']\n",
        "bad_no = [row for row in data if row['poverty'] == 'low' and row['roadCondition'] == 'bad' and row['decision']=='no']\n",
        "\n",
        "Sbad = cal_entropy(bad_yes,bad_no,low_bad)\n",
        "Sbad\n"
      ],
      "metadata": {
        "colab": {
          "base_uri": "https://localhost:8080/"
        },
        "id": "tjyodadRuwBf",
        "outputId": "170d1bc6-104d-4cbb-c446-da17ae6d0a45"
      },
      "execution_count": null,
      "outputs": [
        {
          "output_type": "execute_result",
          "data": {
            "text/plain": [
              "0.9709505944546686"
            ]
          },
          "metadata": {},
          "execution_count": 18
        }
      ]
    },
    {
      "cell_type": "code",
      "source": [
        "low_bad = [row for row in data if row['poverty'] == 'low' and row['roadCondition'] == 'good']\n",
        "low_bad"
      ],
      "metadata": {
        "id": "ZD21ZJTSn3hy",
        "colab": {
          "base_uri": "https://localhost:8080/"
        },
        "outputId": "79c02949-c10c-429d-c630-8ef6d2754061"
      },
      "execution_count": null,
      "outputs": [
        {
          "output_type": "execute_result",
          "data": {
            "text/plain": [
              "[{'id': 4,\n",
              "  'roadCondition': 'good',\n",
              "  'poverty': 'low',\n",
              "  'healthCare': 'strong',\n",
              "  'decision': 'yes'},\n",
              " {'id': 8,\n",
              "  'roadCondition': 'good',\n",
              "  'poverty': 'low',\n",
              "  'healthCare': 'weak',\n",
              "  'decision': 'yes'},\n",
              " {'id': 11,\n",
              "  'roadCondition': 'good',\n",
              "  'poverty': 'low',\n",
              "  'healthCare': 'strong',\n",
              "  'decision': 'no'},\n",
              " {'id': 14,\n",
              "  'roadCondition': 'good',\n",
              "  'poverty': 'low',\n",
              "  'healthCare': 'strong',\n",
              "  'decision': 'yes'},\n",
              " {'id': 20,\n",
              "  'roadCondition': 'good',\n",
              "  'poverty': 'low',\n",
              "  'healthCare': 'weak',\n",
              "  'decision': 'no'}]"
            ]
          },
          "metadata": {},
          "execution_count": 19
        }
      ]
    },
    {
      "cell_type": "code",
      "source": [],
      "metadata": {
        "id": "-Hwu1DA3GO1g"
      },
      "execution_count": null,
      "outputs": []
    },
    {
      "cell_type": "code",
      "source": [
        "low_good = [row for row in data if row['poverty'] == 'low' and row['roadCondition'] == 'good']\n",
        "good_yes = [row for row in data if row['poverty'] == 'low' and row['roadCondition'] == 'good' and row['decision']=='yes']\n",
        "good_no = [row for row in data if row['poverty'] == 'low' and row['roadCondition'] == 'good' and row['decision']=='no']\n",
        "\n",
        "Sgood = cal_entropy(good_yes,good_no,low_good)\n",
        "Sgood"
      ],
      "metadata": {
        "colab": {
          "base_uri": "https://localhost:8080/"
        },
        "id": "sB8rBxZQ4M6-",
        "outputId": "99c1849e-35cf-48db-985c-e8ace4aa12bc"
      },
      "execution_count": null,
      "outputs": [
        {
          "output_type": "execute_result",
          "data": {
            "text/plain": [
              "0.9709505944546686"
            ]
          },
          "metadata": {},
          "execution_count": 20
        }
      ]
    },
    {
      "cell_type": "code",
      "source": [
        "total_low = len(low)\n",
        "total_bad = len(low_bad)\n",
        "total_good = len(low_good)\n",
        "low_road = Slow - (total_bad/total_low*Sbad) - (total_good/total_low*Sgood)\n",
        "final_dic['low_roadCond'] = low_road"
      ],
      "metadata": {
        "id": "hhfcEvfoLZMF"
      },
      "execution_count": null,
      "outputs": []
    },
    {
      "cell_type": "code",
      "source": [
        "### low , healthCare"
      ],
      "metadata": {
        "id": "TLMDngYULZRO"
      },
      "execution_count": null,
      "outputs": []
    },
    {
      "cell_type": "code",
      "source": [
        "low_strong = [row for row in data if row['poverty'] == 'low' and row['healthCare'] == 'strong']\n",
        "strong_yes = [row for row in data if row['poverty'] == 'low' and row['healthCare'] == 'strong' and row['decision']=='yes']\n",
        "strong_no = [row for row in data if row['poverty'] == 'low' and row['healthCare'] == 'strong' and row['decision']=='no']\n",
        "\n",
        "Sstrong = cal_entropy(strong_yes,strong_no,low_strong)\n",
        "Sstrong"
      ],
      "metadata": {
        "colab": {
          "base_uri": "https://localhost:8080/"
        },
        "id": "L9zqX2WVbBCJ",
        "outputId": "017da2b2-0e18-494b-9521-9d01507f8502"
      },
      "execution_count": null,
      "outputs": [
        {
          "output_type": "execute_result",
          "data": {
            "text/plain": [
              "0.9182958340544896"
            ]
          },
          "metadata": {},
          "execution_count": 23
        }
      ]
    },
    {
      "cell_type": "code",
      "source": [
        "low_weak = [row for row in data if row['poverty'] == 'low' and row['healthCare'] == 'weak']\n",
        "weak_yes = [row for row in data if row['poverty'] == 'low' and row['healthCare'] == 'weak' and row['decision']=='yes']\n",
        "weak_no = [row for row in data if row['poverty'] == 'low' and row['healthCare'] == 'weak' and row['decision']=='no']\n",
        "\n",
        "Sweak = cal_entropy(weak_yes,weak_no,low_weak)\n",
        "Sweak"
      ],
      "metadata": {
        "colab": {
          "base_uri": "https://localhost:8080/"
        },
        "id": "X89Kqk2sbBAA",
        "outputId": "c918629b-6063-428a-d1a6-d4b9e01bdaf2"
      },
      "execution_count": null,
      "outputs": [
        {
          "output_type": "execute_result",
          "data": {
            "text/plain": [
              "1.0"
            ]
          },
          "metadata": {},
          "execution_count": 24
        }
      ]
    },
    {
      "cell_type": "code",
      "source": [
        "total_low = len(low)\n",
        "total_strong = len(low_strong)\n",
        "total_weak = len(low_weak)\n",
        "low_health = Slow - (total_weak/total_low*Sweak) - (total_strong/total_low*Sstrong)\n",
        "final_dic['low_health'] = low_health"
      ],
      "metadata": {
        "id": "HGbNhGeEbBEM"
      },
      "execution_count": null,
      "outputs": []
    },
    {
      "cell_type": "code",
      "source": [
        "### OPTION 2 : high ( road , health)"
      ],
      "metadata": {
        "id": "W8vifzrdLZTk"
      },
      "execution_count": null,
      "outputs": []
    },
    {
      "cell_type": "code",
      "source": [
        "## high , road"
      ],
      "metadata": {
        "id": "oSR0dxBNnGrW"
      },
      "execution_count": null,
      "outputs": []
    },
    {
      "cell_type": "code",
      "source": [
        "high = [row for row in data if row['poverty'] == 'high']\n",
        "yes = [row for row in data if row['poverty'] == 'high' and row['decision']=='yes']\n",
        "no = [row for row in data if row['poverty'] == 'high' and row['decision']=='no']\n",
        "\n",
        "Shigh = cal_entropy(yes,no,high)\n",
        "final_dic['Shigh'] = Shigh"
      ],
      "metadata": {
        "id": "v10WSqfk54ek"
      },
      "execution_count": null,
      "outputs": []
    },
    {
      "cell_type": "code",
      "source": [
        "high_good = [row for row in data if row['poverty'] == 'high' and row['roadCondition'] == 'good']\n",
        "good_yes = [row for row in data if row['poverty'] == 'high' and row['roadCondition'] == 'good' and row['decision']=='yes']\n",
        "good_no = [row for row in data if row['poverty'] == 'high' and row['roadCondition'] == 'good' and row['decision']=='no']\n",
        "\n",
        "Sgood = cal_entropy(good_yes,good_no,high_good)\n",
        "Sgood"
      ],
      "metadata": {
        "colab": {
          "base_uri": "https://localhost:8080/"
        },
        "id": "w6DmG4NI6EP4",
        "outputId": "ca049167-45cb-40b3-ff26-34a8ba77207f"
      },
      "execution_count": null,
      "outputs": [
        {
          "output_type": "execute_result",
          "data": {
            "text/plain": [
              "0.9182958340544896"
            ]
          },
          "metadata": {},
          "execution_count": 29
        }
      ]
    },
    {
      "cell_type": "code",
      "source": [
        "high_bad = [row for row in data if row['poverty'] == 'high' and row['roadCondition'] == 'bad']\n",
        "bad_yes = [row for row in data if row['poverty'] == 'high' and row['roadCondition'] == 'bad' and row['decision']=='yes']\n",
        "bad_no = [row for row in data if row['poverty'] == 'high' and row['roadCondition'] == 'bad' and row['decision']=='no']\n",
        "if(len(bad_no) == 0 or len(bad_yes) == 0):\n",
        "  Sbad = 0\n",
        "else:\n",
        "  Sbad = cal_entropy(bad_yes,bad_no,high_bad)\n",
        "Sbad"
      ],
      "metadata": {
        "colab": {
          "base_uri": "https://localhost:8080/"
        },
        "id": "Er3IfnBdhS9P",
        "outputId": "c3a8b633-d0b3-4b57-8770-756d2b27e20b"
      },
      "execution_count": null,
      "outputs": [
        {
          "output_type": "execute_result",
          "data": {
            "text/plain": [
              "0"
            ]
          },
          "metadata": {},
          "execution_count": 30
        }
      ]
    },
    {
      "cell_type": "code",
      "source": [
        "total_high = len(high)\n",
        "total_bad = len(high_bad)\n",
        "total_good = len(high_good)\n",
        "high_road = Shigh - (total_bad/total_high*Sbad) - (total_good/total_high*Sgood)\n",
        "final_dic['high_roadCond'] = high_road"
      ],
      "metadata": {
        "id": "n_b40xwMgRm3"
      },
      "execution_count": null,
      "outputs": []
    },
    {
      "cell_type": "code",
      "source": [
        "## health with high"
      ],
      "metadata": {
        "id": "pB5ZF9fLgRtJ"
      },
      "execution_count": null,
      "outputs": []
    },
    {
      "cell_type": "code",
      "source": [
        "high_strong = [row for row in data if row['poverty'] == 'high' and row['healthCare'] == 'strong']\n",
        "strong_yes = [row for row in data if row['poverty'] == 'high' and row['healthCare'] == 'strong' and row['decision']=='yes']\n",
        "strong_no = [row for row in data if row['poverty'] == 'high' and row['healthCare'] == 'strong' and row['decision']=='no']\n",
        "\n",
        "Sstrong = cal_entropy(strong_yes,strong_no,high_strong)\n",
        "Sstrong"
      ],
      "metadata": {
        "colab": {
          "base_uri": "https://localhost:8080/"
        },
        "id": "vDYH0zYYlNtz",
        "outputId": "b4c19bdf-dd02-4b2f-af65-7a5bcea30434"
      },
      "execution_count": null,
      "outputs": [
        {
          "output_type": "execute_result",
          "data": {
            "text/plain": [
              "0.9709505944546686"
            ]
          },
          "metadata": {},
          "execution_count": 33
        }
      ]
    },
    {
      "cell_type": "code",
      "source": [
        "high_weak = [row for row in data if row['poverty'] == 'high' and row['healthCare'] == 'weak']\n",
        "weak_yes = [row for row in data if row['poverty'] == 'high' and row['healthCare'] == 'weak' and row['decision']=='yes']\n",
        "weak_no = [row for row in data if row['poverty'] == 'high' and row['healthCare'] == 'weak' and row['decision']=='no']\n",
        "\n",
        "Sweak = cal_entropy(weak_yes,weak_no,high_weak)\n",
        "Sweak"
      ],
      "metadata": {
        "colab": {
          "base_uri": "https://localhost:8080/"
        },
        "id": "t5DBGuWOlNv8",
        "outputId": "3db109ff-c404-4494-86a1-2594cf405341"
      },
      "execution_count": null,
      "outputs": [
        {
          "output_type": "execute_result",
          "data": {
            "text/plain": [
              "0.7219280948873623"
            ]
          },
          "metadata": {},
          "execution_count": 34
        }
      ]
    },
    {
      "cell_type": "code",
      "source": [
        "total_high = len(high)\n",
        "total_strong = len(high_strong)\n",
        "total_weak = len(high_weak)\n",
        "high_health = Shigh - (total_weak/total_high*Sweak) - (total_strong/total_high*Sstrong)\n",
        "final_dic['high_health'] = high_health"
      ],
      "metadata": {
        "id": "q625q5tZlNx3"
      },
      "execution_count": null,
      "outputs": []
    },
    {
      "cell_type": "code",
      "source": [
        "final_dic"
      ],
      "metadata": {
        "colab": {
          "base_uri": "https://localhost:8080/"
        },
        "id": "Ewz44NZUlpbC",
        "outputId": "00725165-77d6-45f0-a9bc-71a2070669be"
      },
      "execution_count": null,
      "outputs": [
        {
          "output_type": "execute_result",
          "data": {
            "text/plain": [
              "{'Slow': 0.9709505944546686,\n",
              " 'low_roadCond': 0.0,\n",
              " 'low_health': 0.01997309402197489,\n",
              " 'Shigh': 0.8812908992306927,\n",
              " 'high_roadCond': 0.054824648581652036,\n",
              " 'high_health': 0.034851554559677256}"
            ]
          },
          "metadata": {},
          "execution_count": 36
        }
      ]
    },
    {
      "cell_type": "code",
      "source": [
        "### now we have another two possible branches of each\n",
        "### if poverty is low we go with health care --- (strong , weak)\n"
      ],
      "metadata": {
        "id": "dd0MwT0VlN0A"
      },
      "execution_count": null,
      "outputs": []
    },
    {
      "cell_type": "code",
      "source": [
        "strong_yes = [row for row in data if row['poverty'] == 'low' and row['healthCare'] == 'strong' and row['decision']=='yes']\n",
        "strong_no = [row for row in data if row['poverty'] == 'low' and row['healthCare'] == 'strong' and row['decision']=='no']\n",
        "print(len(strong_yes))\n",
        "print(len(strong_no))\n",
        "if len(strong_yes) > len(strong_no):\n",
        "  print(\"Yes\")\n",
        "else:\n",
        "  print(\"No\")\n"
      ],
      "metadata": {
        "colab": {
          "base_uri": "https://localhost:8080/"
        },
        "id": "AbQwDFUf2qqA",
        "outputId": "623456e0-57b2-4be3-c739-719aea282b22"
      },
      "execution_count": null,
      "outputs": [
        {
          "output_type": "stream",
          "name": "stdout",
          "text": [
            "4\n",
            "2\n",
            "Yes\n"
          ]
        }
      ]
    },
    {
      "cell_type": "code",
      "source": [
        "weak_yes = [row for row in data if row['poverty'] == 'low' and row['healthCare'] == 'weak' and row['decision']=='yes']\n",
        "weak_no = [row for row in data if row['poverty'] == 'low' and row['healthCare'] == 'weak' and row['decision']=='no']\n",
        "print(len(weak_yes)-1)\n",
        "print(len(weak_no)+1)\n",
        "if len(weak_yes) > len(weak_no):\n",
        "  print(\"Yes\")\n",
        "else:\n",
        "  print(\"No\")"
      ],
      "metadata": {
        "colab": {
          "base_uri": "https://localhost:8080/"
        },
        "id": "g6LpcEe22qsI",
        "outputId": "787403ba-0ee2-481c-a3b8-0faa93af2ec8"
      },
      "execution_count": null,
      "outputs": [
        {
          "output_type": "stream",
          "name": "stdout",
          "text": [
            "1\n",
            "3\n",
            "No\n"
          ]
        }
      ]
    },
    {
      "cell_type": "code",
      "source": [
        "good_yes = [row for row in data if row['poverty'] == 'high' and row['roadCondition'] == 'good' and row['decision']=='yes']\n",
        "good_no = [row for row in data if row['poverty'] == 'high' and row['roadCondition'] == 'good' and row['decision']=='no']\n",
        "print(len(good_yes))\n",
        "print(len(good_no))\n",
        "if len(good_yes) > len(good_no):\n",
        "  print(\"Yes\")\n",
        "else:\n",
        "  print(\"No\")"
      ],
      "metadata": {
        "colab": {
          "base_uri": "https://localhost:8080/"
        },
        "id": "Zst0mxckJw3j",
        "outputId": "312111f4-71bc-4c28-908a-d10f3f41d568"
      },
      "execution_count": null,
      "outputs": [
        {
          "output_type": "stream",
          "name": "stdout",
          "text": [
            "6\n",
            "3\n",
            "Yes\n"
          ]
        }
      ]
    },
    {
      "cell_type": "code",
      "source": [
        "bad_yes = [row for row in data if row['poverty'] == 'high' and row['roadCondition'] == 'bad' and row['decision']=='yes']\n",
        "bad_no = [row for row in data if row['poverty'] == 'high' and row['roadCondition'] == 'bad' and row['decision']=='no']\n",
        "print(len(bad_yes))\n",
        "print(len(bad_no))\n",
        "if len(bad_yes) > len(bad_no):\n",
        "  print(\"Yes\")\n",
        "else:\n",
        "  print(\"No\")"
      ],
      "metadata": {
        "colab": {
          "base_uri": "https://localhost:8080/"
        },
        "id": "Z--faSGO2qvl",
        "outputId": "f8b1f4f4-3e78-4c4b-abf9-20433cd8406b"
      },
      "execution_count": null,
      "outputs": [
        {
          "output_type": "stream",
          "name": "stdout",
          "text": [
            "1\n",
            "0\n",
            "Yes\n"
          ]
        }
      ]
    },
    {
      "cell_type": "code",
      "source": [
        "# print(f\"Entropy for government: {gov_entropy:}\")\n",
        "# print(f\"Gain for government: {gov_gain}\")\n",
        "# print(f\"Projected inflation rate for BJP government in 2023: {bjp_inflation:.5f}\")\n",
        "# print(f\"Projected crime rate for BJP government in 2023: {bjp_crime:.5f}\")"
      ],
      "metadata": {
        "id": "_y611fhZu2Hb"
      },
      "execution_count": null,
      "outputs": []
    },
    {
      "cell_type": "code",
      "source": [],
      "metadata": {
        "id": "sKIZOpvCIPpK"
      },
      "execution_count": null,
      "outputs": []
    },
    {
      "cell_type": "code",
      "source": [
        "from sklearn.tree import DecisionTreeClassifier\n",
        "import pandas as pd\n",
        "import matplotlib.pyplot\n",
        "from sklearn.tree import plot_tree\n",
        "\n",
        "# convert data into a pandas dataframe\n",
        "df = pd.DataFrame(data)\n",
        "\n",
        "# create a mapping dictionary for the categorical features\n",
        "mapping = {\n",
        "    'roadCondition': {'good': 0, 'bad': 1},\n",
        "    'poverty': {'low': 0, 'high': 1},\n",
        "    'healthCare': {'weak': 0, 'strong': 1},\n",
        "    'decision': {'no': 0, 'yes': 1}\n",
        "}\n",
        "\n",
        "# apply mapping to convert categorical features to numerical ones\n",
        "df = df.replace(mapping)\n",
        "\n",
        "# split the data into features and target variable\n",
        "X = df.drop('decision', axis=1)\n",
        "y = df['decision']\n",
        "\n",
        "# create a decision tree classifier and fit it to the data\n",
        "clf = DecisionTreeClassifier(criterion='entropy')\n",
        "clf.fit(X, y)\n",
        "\n",
        "# visualize the decision tree using scikit-learn's plot_tree method\n",
        "plt.figure(figsize=(10,8))\n",
        "plot_tree(clf, filled=True, feature_names=X.columns)\n",
        "plt.show()\n"
      ],
      "metadata": {
        "colab": {
          "base_uri": "https://localhost:8080/",
          "height": 653
        },
        "id": "7V1yfZq-XdiF",
        "outputId": "bade0e7a-9bd6-443e-8bb8-2a461f6d13f5"
      },
      "execution_count": null,
      "outputs": [
        {
          "output_type": "display_data",
          "data": {
            "text/plain": [
              "<Figure size 1000x800 with 1 Axes>"
            ],
            "image/png": "[encoded data removed]"
          },
          "metadata": {}
        }
      ]
    }
  ]
}